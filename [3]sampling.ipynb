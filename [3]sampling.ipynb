{
  "nbformat": 4,
  "nbformat_minor": 0,
  "metadata": {
    "colab": {
      "provenance": [],
      "authorship_tag": "ABX9TyNUZBnwCb2OjBkvpI1BEDk6",
      "include_colab_link": true
    },
    "kernelspec": {
      "name": "python3",
      "display_name": "Python 3"
    },
    "language_info": {
      "name": "python"
    }
  },
  "cells": [
    {
      "cell_type": "markdown",
      "metadata": {
        "id": "view-in-github",
        "colab_type": "text"
      },
      "source": [
        "<a href=\"https://colab.research.google.com/github/AlexGrunt/advanced_ml/blob/main/%5B3%5Dsampling.ipynb\" target=\"_parent\"><img src=\"https://colab.research.google.com/assets/colab-badge.svg\" alt=\"Open In Colab\"/></a>"
      ]
    },
    {
      "cell_type": "markdown",
      "source": [
        "# Продвинутое машинное обучение: \n",
        "# Домашнее задание 3\n",
        "\n",
        "Третье домашнее задание посвящено достаточно простой, но, надеюсь, интересной задаче, в которой потребуется творчески применить методы сэмплирования. Как и раньше, в качестве решения ожидается ссылка на jupyter-ноутбук на вашем github (или публичный, или с доступом для snikolenko); ссылку обязательно нужно прислать в виде сданного домашнего задания на портале Академии. Как всегда, любые комментарии, новые идеи и рассуждения на тему категорически приветствуются. \n",
        "В этом небольшом домашнем задании мы попробуем улучшить метод Шерлока Холмса. Как известно, в рассказе The Adventure of the Dancing Men великий сыщик расшифровал загадочные письмена, которые выглядели примерно так:\n",
        "\n",
        "![photo1682772490.jpeg](data:image/jpeg;base64,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)\n",
        "\n",
        "Пользовался он для этого так называемым частотным методом: смотрел, какие буквы чаще встречаются в зашифрованных текстах, и пытался подставить буквы в соответствии с частотной таблицей: E — самая частая и так далее.\n",
        "В этом задании мы будем разрабатывать более современный и продвинутый вариант такого частотного метода. В качестве корпусов текстов для подсчётов частот можете взять что угодно, но для удобства вот вам “Война и мир” по-русски и по-английски:\n",
        "https://www.dropbox.com/s/k23enjvr3fb40o5/corpora.zip "
      ],
      "metadata": {
        "id": "hf5Hyo8kDIQt"
      }
    },
    {
      "cell_type": "code",
      "source": [
        "!unzip corpora.zip "
      ],
      "metadata": {
        "colab": {
          "base_uri": "https://localhost:8080/"
        },
        "id": "-6fF-m_gEPcQ",
        "outputId": "cfbbe98e-8a4f-485a-dad6-18fe69920c5b"
      },
      "execution_count": 1,
      "outputs": [
        {
          "output_type": "stream",
          "name": "stdout",
          "text": [
            "Archive:  corpora.zip\n",
            "  inflating: AnnaKarenina.txt        \n",
            "  inflating: WarAndPeace.txt         \n",
            "  inflating: WarAndPeaceEng.txt      \n"
          ]
        }
      ]
    },
    {
      "cell_type": "markdown",
      "source": [
        "## 1. Реализуйте базовый частотный метод по Шерлоку Холмсу:\n",
        "\n",
        "\n",
        "1.   Подсчитайте частоты букв по корпусам (пунктуацию и капитализацию можно просто опустить, а вот пробелы лучше оставить);\n",
        "2.   возьмите какие-нибудь тестовые тексты (нужно взять по меньшей мере 2-3 предложения, иначе вряд ли сработает), зашифруйте их посредством случайной перестановки символов;\n",
        "3. расшифруйте их таким частотным методом.\n",
        "\n",
        "\n",
        "\n",
        "\n",
        "\n"
      ],
      "metadata": {
        "id": "kHiLe_PQDyoT"
      }
    },
    {
      "cell_type": "code",
      "source": [
        "import string\n",
        "\n",
        "from collections import defaultdict\n",
        "from itertools import zip_longest\n",
        "from random import shuffle\n",
        "from typing import List"
      ],
      "metadata": {
        "id": "MWcxL15KFf-Y"
      },
      "execution_count": 2,
      "outputs": []
    },
    {
      "cell_type": "code",
      "source": [
        "ENGLISH_ALPHABET = set((string.ascii_lowercase + ' '))\n",
        "RUSSIAN_ALPHABET = set(chr(i) for i in range(ord('а'), ord('я') + 1)).union({' '})\n",
        "\n",
        "def letter_histogram(filepath: str, english: bool):\n",
        "    histogram = defaultdict(int)\n",
        "    alphabet = ENGLISH_ALPHABET if english else RUSSIAN_ALPHABET\n",
        "    with open(filepath, 'r') as file:\n",
        "        for line in file.readlines():\n",
        "            for letter in line.lower():\n",
        "                if letter in alphabet:\n",
        "                    histogram[letter] += 1\n",
        "    return histogram"
      ],
      "metadata": {
        "id": "o0E_-DCjE9ZT"
      },
      "execution_count": 3,
      "outputs": []
    },
    {
      "cell_type": "code",
      "source": [
        "rus_histogram = letter_histogram(\"WarAndPeace.txt\", False)\n",
        "eng_histogram = letter_histogram(\"WarAndPeaceEng.txt\", True)"
      ],
      "metadata": {
        "id": "EgXMEqzIEdmM"
      },
      "execution_count": 4,
      "outputs": []
    },
    {
      "cell_type": "code",
      "source": [
        "russian_test_texts = [\n",
        "    \"\"\"\n",
        "    И скучно и грустно, и некому руку подать\n",
        "    В минуту душевной невзгоды…\n",
        "    Желанья!.. Что пользы напрасно и вечно желать?..\n",
        "    А годы проходят — все лучшие годы!\n",
        "\n",
        "    Любить… Но кого же?.. На время — не стоит труда,\n",
        "    А вечно любить невозможно.\n",
        "    В себя ли заглянешь? — там прошлого нет и следа:\n",
        "    И радость, и муки, и всё там ничтожно…\n",
        "\n",
        "    Что страсти? — ведь рано иль поздно их сладкий недуг\n",
        "    Исчезнет при слове рассудка;\n",
        "    И жизнь, как посмотришь с холодным вниманьем вокруг, –\n",
        "    Такая пустая и глупая шутка…\n",
        "    \"\"\",\n",
        "    \"\"\"\n",
        "    В.Г. Белинский писал об этом стихотворении: «И скучно и грустно» из всех пьес Лермонтова обратила на себя особенную неприязнь старого поколения. \n",
        "    Странные люди! Им все кажется, что поэзия должна выдумывать, \n",
        "    а не быть жрицею истины, тешить побрякушками, а не греметь правдою!» \n",
        "    \"\"\",\n",
        "    \"\"\"\n",
        "    При возникновении теоремы Байеса вероятности, используемые в теореме, подвергались целому ряду вероятностных интерпретаций. В одной из таких интерпретаций говорилось, \n",
        "    что вывод формулы напрямую связан с применением особого подхода к статистическому анализу. \n",
        "    Если использовать байесовскую интерпретацию вероятности, то теорема показывает, как личный уровень доверия может кардинально измениться вследствие количества наступивших событий.\n",
        "    \"\"\",\n",
        "]"
      ],
      "metadata": {
        "id": "Q_bOwFPCIHVQ"
      },
      "execution_count": 5,
      "outputs": []
    },
    {
      "cell_type": "code",
      "source": [
        "english_test_texts = [\n",
        "    \"\"\"\n",
        "    One of the many applications of Bayes' theorem is Bayesian inference, a particular approach to statistical inference. \n",
        "    When applied, the probabilities involved in the theorem may have different probability interpretations. \n",
        "    With Bayesian probability interpretation, the theorem expresses how a degree of belief, expressed as a probability, should rationally change to account for the availability of related evidence.\n",
        "    \"\"\",\n",
        "    \"\"\"\n",
        "    By modern standards, we should refer to the Bayes–Price rule. \n",
        "    Price discovered Bayes's work, recognized its importance, corrected it, contributed to the article, and found a use for it. \n",
        "    The modern convention of employing Bayes's name alone is unfair but so entrenched that anything else makes little sense.\n",
        "    \"\"\",\n",
        "    \"\"\"\n",
        "    Existence and uniqueness of the needed conditional expectation is a consequence of the Radon-Nikodym theorem.\n",
        "    This was formulated by Kolmogorov in his famous book from 1933. \n",
        "    Kolmogorov underlines the importance of conditional probability by writing 'I wish to call attention to ... and especially the theory of conditional probabilities and conditional expectations ...' in the Preface.\n",
        "    \"\"\",\n",
        "]"
      ],
      "metadata": {
        "id": "8FYLFEo4hOEP"
      },
      "execution_count": 6,
      "outputs": []
    },
    {
      "cell_type": "code",
      "source": [
        "def shuffle_encode(text: str, alphabet: set) -> str:\n",
        "    shuffled_alphabet = list(alphabet).copy()\n",
        "    shuffle(shuffled_alphabet)\n",
        "    shuffled_mapping = {char: map_char for char, map_char in zip(list(alphabet), shuffled_alphabet)}\n",
        "    text_list = list(text.lower())\n",
        "\n",
        "    for i, char in enumerate(text_list):\n",
        "        if char in shuffled_mapping:\n",
        "            text_list[i] = shuffled_mapping[char]\n",
        "\n",
        "    return ''.join(text_list)\n",
        "\n",
        "def encode_all(texts: List[str], alphabet: set) -> List[str]:\n",
        "    return [shuffle_encode(text.lower(), alphabet) for text in texts]\n",
        "\n",
        "def text_histogram(text: str, alphabet: set) -> dict:\n",
        "    histogram = defaultdict(int)\n",
        "    for char in text:\n",
        "        if char in alphabet:\n",
        "            histogram[char] += 1\n",
        "\n",
        "    return histogram\n",
        "    \n",
        "def get_sorted_keys(histogram: dict) -> list:\n",
        "    return [x[0] for x in sorted(histogram.items(), key=lambda x: x[1], reverse=True)]\n",
        "\n",
        "def frequency_decode(encoded_text: str, lang_histogram: dict, alphabet: set) -> str:\n",
        "    encoded_histogram = text_histogram(encoded_text, alphabet)\n",
        "    \n",
        "    lang_keys = get_sorted_keys(lang_histogram)\n",
        "    encoded_keys = get_sorted_keys(encoded_histogram)\n",
        "    key_mapping = {}\n",
        "\n",
        "    for encoded_key, lang_key  in zip(encoded_keys, lang_keys):\n",
        "        key_mapping[encoded_key] = lang_key\n",
        "\n",
        "    encoded_list = list(encoded_text)\n",
        "\n",
        "    for i, char in enumerate(encoded_list):\n",
        "        if char in key_mapping:\n",
        "            encoded_list[i] = key_mapping[char]\n",
        "\n",
        "    return ''.join(encoded_list)\n",
        "\n",
        "def decode_all(encoded_texts: List[str], lang_histogram: dict, alphabet:set) -> List[str]:\n",
        "    return [frequency_decode(text, lang_histogram, alphabet) for text in encoded_texts]"
      ],
      "metadata": {
        "id": "RmsZrvdWh6dP"
      },
      "execution_count": 7,
      "outputs": []
    },
    {
      "cell_type": "markdown",
      "source": [
        "Для русского языка:"
      ],
      "metadata": {
        "id": "udY4dSXyy4w9"
      }
    },
    {
      "cell_type": "code",
      "source": [
        "rus_encoded = encode_all(russian_test_texts, RUSSIAN_ALPHABET)\n",
        "rus_decoded = decode_all(rus_encoded, rus_histogram, RUSSIAN_ALPHABET)\n",
        "\n",
        "for decoded_text, encoded_text, original_text in zip(rus_decoded, rus_encoded, russian_test_texts):\n",
        "    print(\"Оригинальный текст:\")\n",
        "    print(original_text)\n",
        "    print(\"Закодированный перестановкой текст:\")\n",
        "    print(encoded_text)\n",
        "    print(\"Декодированный текст:\")\n",
        "    print(decoded_text)\n",
        "    print('=' * 20)"
      ],
      "metadata": {
        "colab": {
          "base_uri": "https://localhost:8080/"
        },
        "id": "j_H4jo9PxM8I",
        "outputId": "dc18e43c-0561-4a44-fb8d-8a28af1e7887"
      },
      "execution_count": 8,
      "outputs": [
        {
          "output_type": "stream",
          "name": "stdout",
          "text": [
            "Оригинальный текст:\n",
            "\n",
            "    И скучно и грустно, и некому руку подать\n",
            "    В минуту душевной невзгоды…\n",
            "    Желанья!.. Что пользы напрасно и вечно желать?..\n",
            "    А годы проходят — все лучшие годы!\n",
            "\n",
            "    Любить… Но кого же?.. На время — не стоит труда,\n",
            "    А вечно любить невозможно.\n",
            "    В себя ли заглянешь? — там прошлого нет и следа:\n",
            "    И радость, и муки, и всё там ничтожно…\n",
            "\n",
            "    Что страсти? — ведь рано иль поздно их сладкий недуг\n",
            "    Исчезнет при слове рассудка;\n",
            "    И жизнь, как посмотришь с холодным вниманьем вокруг, –\n",
            "    Такая пустая и глупая шутка…\n",
            "    \n",
            "Закодированный перестановкой текст:\n",
            "\n",
            "ииииыийсфчхжиыинлфйдхж,иыихясжъфилфсфиржшаду\n",
            "ииииэиъыхфдфишфбяэхжцихяэенжшп…\n",
            "ииииоягахую!..ичджиржгуепихарлайхжиыиэячхжиоягаду?..\n",
            "ииииаинжшпирлжмжшюди—иэйяигфчбыяинжшп!\n",
            "\n",
            "иииигщзыду…ихжисжнжиоя?..ихаиэляъюи—ихяийджыдидлфша,\n",
            "ииииаиэячхжигщзыдуихяэжеъжохж.\n",
            "ииииэийязюигыиеангюхябу?и—идаъирлжбгжнжихядиыийгяша:\n",
            "ииииыилашжйду,иыиъфсы,иыиэйёидаъихычджохж…\n",
            "\n",
            "иииичджийдлайды?и—иэяшуилахжиыгуиржешхжиымийгашсыцихяшфн\n",
            "ииииыйчяехядирлыийгжэяилаййфшса;\n",
            "ииииыиоыеху,исасиржйъждлыбуийимжгжшхпъиэхыъахуяъиэжслфн,и–\n",
            "иииидасаюирфйдаюиыингфраюибфдса…\n",
            "ииии\n",
            "Декодированный текст:\n",
            "\n",
            "    е сульао е яклснао, е атуопл клул говинм\n",
            "    д пеалнл влбтдаох атдзяовй…\n",
            "    чтриамы!.. ьно гормзй аигкисао е дтьао чтринм?..\n",
            "    и яовй гкожовын — дст рльбет яовй!\n",
            "\n",
            "    рюшенм… ао уояо чт?.. аи дктпы — ат сноен нклви,\n",
            "    и дтьао рюшенм атдозпочао.\n",
            "    д стшы ре зиярыатбм? — нип гкоброяо атн е сртви:\n",
            "    е кивоснм, е плуе, е дсё нип аеьночао…\n",
            "\n",
            "    ьно снкисне? — дтвм киао ерм гозвао еж сривуех атвля\n",
            "    есьтзатн гке сродт кисслвуи;\n",
            "    е чезам, уиу госпонкебм с жоровайп даепиамтп доукля, –\n",
            "    ниуиы глсниы е ярлгиы блнуи…\n",
            "    \n",
            "====================\n",
            "Оригинальный текст:\n",
            "\n",
            "    В.Г. Белинский писал об этом стихотворении: «И скучно и грустно» из всех пьес Лермонтова обратила на себя особенную неприязнь старого поколения. \n",
            "    Странные люди! Им все кажется, что поэзия должна выдумывать, \n",
            "    а не быть жрицею истины, тешить побрякушками, а не греметь правдою!» \n",
            "    \n",
            "Закодированный перестановкой текст:\n",
            "\n",
            "щщщщл.з.щрюа хкв йщя кэащчрщсъчищкъ ьчълчдюх  :щ« щквжмхчщ щзджкъхч»щ ущлкюьщяоюкщаюдичхъчлэщчрдэъ аэщхэщкюрещчкчрюххжбщхюяд еухощкъэдчзчщячвчаюх е.щ\n",
            "щщщщкъдэххцющабы !щ ищлкющвэнюъке,щмъчщячсу ещычанхэщлцыжицлэъо,щ\n",
            "щщщщэщхющрцъощнд пюбщ къ хц,щъют ъощячрдевжтвэи ,щэщхющздюиюъощядэлычб!»щ\n",
            "щщщщ\n",
            "Декодированный текст:\n",
            "\n",
            "    в.ы. рекоитмоц дотск ар жнау тношанвалеиоо: «о тмгхиа о ылгтниа» оч втеш дпет келуаинавс арлснокс ис теря атареиигз иедлоячип тнслаыа дамакеиоя. \n",
            "    тнлсииье кзбо! оу вте мсйентя, хна дажчоя бакйис вьбгуьвснп, \n",
            "    с ие рьнп йлоэез отноиь, неюонп дарлямгюмсуо, с ие ылеуенп длсвбаз!» \n",
            "    \n",
            "====================\n",
            "Оригинальный текст:\n",
            "\n",
            "    При возникновении теоремы Байеса вероятности, используемые в теореме, подвергались целому ряду вероятностных интерпретаций. В одной из таких интерпретаций говорилось, \n",
            "    что вывод формулы напрямую связан с применением особого подхода к статистическому анализу. \n",
            "    Если использовать байесовскую интерпретацию вероятности, то теорема показывает, как личный уровень доверия может кардинально измениться вследствие количества наступивших событий.\n",
            "    \n",
            "Закодированный перестановкой текст:\n",
            "\n",
            "ддддищлдямеюлгюмянюллдтнмщнвэдф унр дянщмчтюмртл,длримхыеснвэндядтнмщнвн,димбянщо хлрыдпнхмвсдщчбсдянщмчтюмртюэадлютнщищнт плу.дядмбюмудледт гладлютнщищнт плудомямщлхмры,д\n",
            "ддддьтмдяэямбдкмщвсхэдю ищчвсйдряче юдрдищлвнюнюлнвдмрмфмомдимбамб дгдрт тлртльнргмвсд ю хлес.д\n",
            "дддднрхлдлримхыемя тыдф унрмяргсйдлютнщищнт плйдянщмчтюмртл,дтмдтнмщнв димг еэя нт,дг гдхльюэудсщмянюыдбмянщлчдвмшнтдг щблю хыюмдлевнюлтырчдярхнбртялндгмхльнртя дю ртсиляъладрмфэтлу.\n",
            "дддд\n",
            "Декодированный текст:\n",
            "\n",
            "    рсе воялемловалее иаосакг бнзатн васоьилотие, етродыяуакга в иаосака, ропвасшндеты чадоку сьпу васоьилотилгй елиасрсаинчез. в оплоз ея инмей елиасрсаинчез шовоседоты, \n",
            "    жио вгвоп юоскудг лнрськух твьянл т рсекалалеак отобошо ропйопн м тиниетиежатмоку нлндеяу. \n",
            "    атде етродыяовниы бнзатовтмух елиасрсаинчех васоьилотие, ио иаосакн ромнягвнаи, мнм дежлгз усовалы повасеь коцаи мнспелндыло еякалеиыть втдаптивеа модежативн лнтиуревэей тобгиез.\n",
            "    \n",
            "====================\n"
          ]
        }
      ]
    },
    {
      "cell_type": "markdown",
      "source": [
        "Для английского языка:"
      ],
      "metadata": {
        "id": "XqodCA-ey8Ry"
      }
    },
    {
      "cell_type": "code",
      "source": [
        "eng_encoded = encode_all(english_test_texts, ENGLISH_ALPHABET)\n",
        "eng_decoded = decode_all(eng_encoded, eng_histogram, ENGLISH_ALPHABET)\n",
        "\n",
        "for decoded_text, encoded_text, original_text in zip(eng_decoded, eng_encoded, english_test_texts):\n",
        "    print(\"Оригинальный текст:\")\n",
        "    print(original_text)\n",
        "    print(\"Закодированный перестановкой текст\")\n",
        "    print(encoded_text)\n",
        "    print(\"Декодированный текст:\")\n",
        "    print(decoded_text)\n",
        "    print('=' * 20)"
      ],
      "metadata": {
        "colab": {
          "base_uri": "https://localhost:8080/"
        },
        "id": "jjo9WbM-yLrz",
        "outputId": "a1a749d7-7bf5-4b7d-80ca-99e2eaae0dd4"
      },
      "execution_count": 9,
      "outputs": [
        {
          "output_type": "stream",
          "name": "stdout",
          "text": [
            "Оригинальный текст:\n",
            "\n",
            "    One of the many applications of Bayes' theorem is Bayesian inference, a particular approach to statistical inference. \n",
            "    When applied, the probabilities involved in the theorem may have different probability interpretations. \n",
            "    With Bayesian probability interpretation, the theorem expresses how a degree of belief, expressed as a probability, should rationally change to account for the availability of related evidence.\n",
            "    \n",
            "Закодированный перестановкой текст\n",
            "\n",
            "ccccqercqbctircufeacfnnvpoftpqekcqbcgfark'ctirqyrucpkcgfarkpfecpebryreor,cfcnfytpozvfycfnnyqfoictqcktftpktpofvcpebryreor.c\n",
            "cccchirecfnnvpr ,ctircnyqgfgpvptprkcpejqvjr cpectirctirqyrucufacifjrc pbbryretcnyqgfgpvptacpetrynyrtftpqek.c\n",
            "cccchpticgfarkpfecnyqgfgpvptacpetrynyrtftpqe,ctirctirqyrucrlnyrkkrkciqhcfc rmyrrcqbcgrvprb,crlnyrkkr cfkcfcnyqgfgpvpta,ckiqzv cyftpqefvvacoifemrctqcfooqzetcbqyctircfjfpvfgpvptacqbcyrvftr crjp reor.\n",
            "cccc\n",
            "Декодированный текст:\n",
            "\n",
            "    nhe nm ode gthc tllsawtoanhr nm utcer' odenieg ar utcerath ahmeiehwe, t ltioawpsti tllintwd on rotoaroawts ahmeiehwe. \n",
            "    bdeh tllsaef, ode linutuasaoaer ahynsyef ah ode odenieg gtc dtye fammeieho linutuasaoc ahoeilieotoanhr. \n",
            "    baod utcerath linutuasaoc ahoeilieotoanh, ode odenieg evlierrer dnb t fekiee nm uesaem, evlierref tr t linutuasaoc, rdnpsf itoanhtssc wdthke on twwnpho mni ode tytastuasaoc nm iestoef eyafehwe.\n",
            "    \n",
            "====================\n",
            "Оригинальный текст:\n",
            "\n",
            "    By modern standards, we should refer to the Bayes–Price rule. \n",
            "    Price discovered Bayes's work, recognized its importance, corrected it, contributed to the article, and found a use for it. \n",
            "    The modern convention of employing Bayes's name alone is unfair but so entrenched that anything else makes little sense.\n",
            "    \n",
            "Закодированный перестановкой текст\n",
            "\n",
            "ccccjhcvidpobcyazbdzody,crpcyxifldcopupocaicaxpcjzhpy–konqpcoflp.c\n",
            "cccckonqpcdnyqigpopdcjzhpy'ycrioe,copqimbntpdcnaycnvkioazbqp,cqioopqapdcna,cqibaonjfapdcaicaxpczoanqlp,czbdcuifbdczcfypcuiocna.c\n",
            "ccccaxpcvidpobcqibgpbanibciucpvklihnbmcjzhpy'ycbzvpczlibpcnycfbuznocjfacyicpbaopbqxpdcaxzaczbhaxnbmcplypcvzepyclnaalpcypbyp.\n",
            "cccc\n",
            "Декодированный текст:\n",
            "\n",
            "    cw forena itsarsnri, be iuomlr negen to tue cswei–ynhde nmle. \n",
            "    ynhde rhidovener cswei'i bonk, nedopahxer hti hfyontsade, donnedter ht, doatnhcmter to tue snthdle, sar gomar s mie gon ht. \n",
            "    tue forena doaveathoa og efylowhap cswei'i asfe sloae hi magshn cmt io eatneaduer tust sawtuhap elie fskei lhttle ieaie.\n",
            "    \n",
            "====================\n",
            "Оригинальный текст:\n",
            "\n",
            "    Existence and uniqueness of the needed conditional expectation is a consequence of the Radon-Nikodym theorem.\n",
            "    This was formulated by Kolmogorov in his famous book from 1933. \n",
            "    Kolmogorov underlines the importance of conditional probability by writing 'I wish to call attention to ... and especially the theory of conditional probabilities and conditional expectations ...' in the Preface.\n",
            "    \n",
            "Закодированный перестановкой текст\n",
            "\n",
            "ffffqvzdxqhsqfphnfjhzljqhqddfkmfxaqfhqqnqnfskhnzxzkhpwfqveqsxpxzkhfzdfpfskhdqljqhsqfkmfxaqfypnkh-hztkniofxaqkyqo.\n",
            "ffffxazdfupdfmkyojwpxqnfriftkwokgkykcfzhfazdfmpokjdfrkktfmykof1933.f\n",
            "fffftkwokgkykcfjhnqywzhqdfxaqfzoekyxphsqfkmfskhnzxzkhpwfeykrprzwzxifrifuyzxzhgf'zfuzdafxkfspwwfpxxqhxzkhfxkf...fphnfqdeqszpwwifxaqfxaqkyifkmfskhnzxzkhpwfeykrprzwzxzqdfphnfskhnzxzkhpwfqveqsxpxzkhdf...'fzhfxaqfeyqmpsq.\n",
            "ffff\n",
            "Декодированный текст:\n",
            "\n",
            "    tbahntort iod goaxgtothh em nut ottdtd reodanaeois tbwtrninaeo ah i reohtxgtort em nut lideo-oapedyc nuteltc.\n",
            "    nuah vih melcgsintd fy pescekelej ao uah micegh feep mlec 1933. \n",
            "    pescekelej godtlsaoth nut acwelniort em reodanaeois wlefifasany fy vlanaok 'a vahu ne riss inntonaeo ne ... iod thwtraissy nut nutely em reodanaeois wlefifasanath iod reodanaeois tbwtrninaeoh ...' ao nut wltmirt.\n",
            "    \n",
            "====================\n"
          ]
        }
      ]
    },
    {
      "cell_type": "markdown",
      "source": [
        "Как видно, при таком декодировании ничего не выходит. Возможно это связано с чересчур маленькой длиной рассматриваемых текстов. Посмотрим, какие результаты получатся с другими методами."
      ],
      "metadata": {
        "id": "k6wu1XDtzXt4"
      }
    },
    {
      "cell_type": "markdown",
      "source": [
        "## 2. Биграммы\n",
        "Вряд ли в результате получилась такая уж хорошая расшифровка, разве что если вы брали в качестве тестовых данных целые рассказы. Но и Шерлок Холмс был не так уж прост: после буквы E, которая действительно выделяется частотой, дальше он анализировал уже конкретные слова и пытался угадать, какими они могли бы быть. Я не знаю, как запрограммировать такой интуитивный анализ, так что давайте просто сделаем следующий логический шаг:\n",
        "\n",
        "1. подсчитайте частоты биграмм (т.е. пар последовательных букв) по корпусам;\n",
        "2. проведите тестирование аналогично п.1, но при помощи биграмм.\n",
        "\n",
        "\n",
        "\n"
      ],
      "metadata": {
        "id": "e0vmSgKaXvmC"
      }
    },
    {
      "cell_type": "code",
      "source": [
        "def normalize_text(text: str, alphabet: set) -> str:\n",
        "    res = []\n",
        "    text = ' '.join(text.split(' ')).lower()\n",
        "    for char in text:\n",
        "        if char in alphabet:\n",
        "            res.append(char)\n",
        "    return ''.join(res)\n",
        "\n",
        "def text_bigram_histogram(text: str, alphabet: set) -> dict:\n",
        "    histogram = defaultdict(int)\n",
        "    text = normalize_text(text, alphabet)\n",
        "    end_window = 1\n",
        "    while end_window < len(text):\n",
        "        histogram[text[end_window - 1: end_window + 1]] += 1\n",
        "        end_window += 1\n",
        "    return histogram\n",
        "\n",
        "def decode_bigram(text: str, bigram_histogram: dict, alphabet: set) -> str:\n",
        "    normalized_text = normalize_text(text, alphabet)\n",
        "    text_histogram = text_bigram_histogram(text, alphabet)\n",
        "    from_pos, to_pos = 0, 1\n",
        "\n",
        "    lang_keys = get_sorted_keys(bigram_histogram)\n",
        "    text_keys = get_sorted_keys(text_histogram)\n",
        "    mapping = {text_bigram: lang_bigram for text_bigram, lang_bigram in zip(text_keys, lang_keys)}\n",
        "    decoded_text = []\n",
        "\n",
        "    while to_pos < len(normalized_text):\n",
        "        text_bigram = normalized_text[from_pos: to_pos + 1]\n",
        "        if text_bigram in mapping:\n",
        "            decoded_text.append(mapping[normalized_text[from_pos: to_pos + 1]])\n",
        "        else:\n",
        "            decoded_text.append(text_bigram)\n",
        "        from_pos, to_pos = from_pos + 2, to_pos + 2\n",
        "\n",
        "    if from_pos < len(normalized_text):\n",
        "        decoded_text[-1] = decoded_text[-1][0] + mapping[normalized_text[from_pos - 1: from_pos + 1]]\n",
        "\n",
        "    return ''.join(decoded_text)\n",
        "\n",
        "def decode_bigram_all(texts: List[str], bigram_histogram: dict, alphabet: set) -> List[str]:\n",
        "    return [decode_bigram(text, bigram_histogram, alphabet) for text in texts]\n",
        "\n",
        "\n",
        "def get_lang_bigram_histogram(path: str, alphabet: str):\n",
        "    with open(path, 'r') as file:\n",
        "        lang = file.read()\n",
        "\n",
        "        return text_bigram_histogram(lang, alphabet)\n",
        "\n",
        "# some tests\n",
        "with open('WarAndPeace.txt', 'r') as file:\n",
        "    war_and_peace = file.read()\n",
        "lang_histogram = get_lang_bigram_histogram(\"WarAndPeace.txt\", RUSSIAN_ALPHABET)\n",
        "assert normalize_text(war_and_peace, RUSSIAN_ALPHABET) == decode_bigram(shuffle_encode(war_and_peace, RUSSIAN_ALPHABET), lang_histogram, RUSSIAN_ALPHABET)\n",
        "\n",
        "with open('WarAndPeaceEng.txt', 'r') as file:\n",
        "    war_and_peace_eng = file.read()\n",
        "lang_histogram_english = get_lang_bigram_histogram(\"WarAndPeaceEng.txt\", ENGLISH_ALPHABET)\n",
        "assert normalize_text(war_and_peace_eng, ENGLISH_ALPHABET) == decode_bigram(shuffle_encode(war_and_peace_eng, ENGLISH_ALPHABET), lang_histogram_english, ENGLISH_ALPHABET)"
      ],
      "metadata": {
        "id": "Zzi85wgezSp6"
      },
      "execution_count": 10,
      "outputs": []
    },
    {
      "cell_type": "code",
      "source": [
        "eng_encoded = [normalize_text(text, ENGLISH_ALPHABET) for text in encode_all(english_test_texts, ENGLISH_ALPHABET)]\n",
        "eng_decoded = decode_bigram_all(eng_encoded, lang_histogram_english, ENGLISH_ALPHABET)\n",
        "\n",
        "for decoded_text, encoded_text, original_text in zip(eng_decoded, eng_encoded, english_test_texts):\n",
        "    print(\"Предобработанный оригинальный текст:\")\n",
        "    print(normalize_text(original_text, ENGLISH_ALPHABET))\n",
        "    print(\"Закодированный перестановкой текст\")\n",
        "    print(encoded_text)\n",
        "    print(\"Декодированный текст:\")\n",
        "    print(decoded_text)\n",
        "    print('=' * 20)"
      ],
      "metadata": {
        "colab": {
          "base_uri": "https://localhost:8080/"
        },
        "id": "688mO7N7uqhj",
        "outputId": "53fbb762-8fe9-4771-b2e9-e31a09152de5"
      },
      "execution_count": 11,
      "outputs": [
        {
          "output_type": "stream",
          "name": "stdout",
          "text": [
            "Предобработанный оригинальный текст:\n",
            "    one of the many applications of bayes theorem is bayesian inference a particular approach to statistical inference     when applied the probabilities involved in the theorem may have different probability interpretations     with bayesian probability interpretation the theorem expresses how a degree of belief expressed as a probability should rationally change to account for the availability of related evidence    \n",
            "Закодированный перестановкой текст\n",
            "qqqqnyzqngqhozqvkyxqkdduwbkhwnypqngqikxzpqhoznlzvqwpqikxzpwkyqwygzlzybzqkqdklhwbtuklqkddlnkboqhnqphkhwphwbkuqwygzlzybzqqqqqmozyqkdduwz qhozqdlnikiwuwhwzpqwyanuaz qwyqhozqhoznlzvqvkxqokazq wggzlzyhqdlnikiwuwhxqwyhzldlzhkhwnypqqqqqmwhoqikxzpwkyqdlnikiwuwhxqwyhzldlzhkhwnyqhozqhoznlzvqzrdlzppzpqonmqkq zelzzqngqizuwzgqzrdlzppz qkpqkqdlnikiwuwhxqpontu qlkhwnykuuxqbokyezqhnqkbbntyhqgnlqhozqkakwukiwuwhxqngqlzukhz qzaw zybzqqqq\n",
            "Декодированный текст:\n",
            "e e at touth ati bansth arreishor y  sf erd ntheseriitasn  r indleheof t drs garcells  chico lwhchne hadarbe w nhaon pe e sh a isth rongd  tt orto oedroerndidilg  w id  td nthesealanm om eeelehe fenhi so inte w fhat wireishoe e shed l sf a  benhi so inte w fhat wireis id  td ntheseowt n siermaur dlilaolr y weinemealyheimg s er dt orto oedaniotaoosoreisnsldanwa bcathl coulecotyonod  telirmeo inter y hemevenggeryon pe e \n",
            "====================\n",
            "Предобработанный оригинальный текст:\n",
            "    by modern standards we should refer to the bayesprice rule     price discovered bayess work recognized its importance corrected it contributed to the article and found a use for it     the modern convention of employing bayess name alone is unfair but so entrenched that anything else makes little sense    \n",
            "Закодированный перестановкой текст\n",
            "qqqqbwqstduaiqljfidfadlqouqletkrdqauguaqjtqjeuqbfwulhapnuqakruqqqqqhapnuqdplnt uaudqbfwullqotacqauntmipzudqpjlqpshtajfinuqntaaunjudqpjqntijapbkjudqjtqjeuqfajpnruqfidqgtkidqfqkluqgtaqpjqqqqqjeuqstduaiqnti uijptiqtgqushrtwpimqbfwullqifsuqfrtiuqplqkigfpaqbkjqltquijauineudqjefjqfiwjepimqurluqsfculqrpjjruqluiluqqqq\n",
            "Декодированный текст:\n",
            " t t lhast sonl  wchadthshn utlehes  engofd re aound pite sses t twiisasow dinmes heo  bne m oncs insous han ganve of tie inicroalheedg ath raho hd tot e ntriide  whe r nhepeile  rnged t td rehast soninie iriatlodiurprlanowao  bnewew e ooate  dllnsosngder mo fors tirehet ulerect nowanay ha yndtredeve y doe   t\n",
            "====================\n",
            "Предобработанный оригинальный текст:\n",
            "    existence and uniqueness of the needed conditional expectation is a consequence of the radonnikodym theorem    this was formulated by kolmogorov in his famous book from      kolmogorov underlines the importance of conditional probability by writing i wish to call attention to  and especially the theory of conditional probabilities and conditional expectations  in the preface    \n",
            "Закодированный перестановкой текст\n",
            "    vrubtvkjv ykp ckuqcvkvbb hg tnv kvvpvp jhkputuhkys vrivjtytuhk ub y jhkbvqcvkjv hg tnv myphkkuehpdl tnvhmvl    tnub wyb ghmlcsytvp ad ehslhzhmhf uk nub gylhcb ahhe gmhl      ehslhzhmhf ckpvmsukvb tnv ulihmtykjv hg jhkputuhkys imhayausutd ad wmutukz u wubn th jyss yttvktuhk th  ykp vbivjuyssd tnv tnvhmd hg jhkputuhkys imhayausutuvb ykp jhkputuhkys vrivjtytuhkb  uk tnv imvgyjv    \n",
            "Декодированный текст:\n",
            "e e es wg orthenndrossti fwingo t th fteteer tou a t s ih  car a tr d im ohomatiorthtoheinlita tvef  gntt ria nte he rd icd raidilisteleatf nocon  lr it rd l ofdileprolweeme e e f nocon  lnes w  p fd t thoonsldenonngo  os  han bedmechbeom hat n mmo acar  m wyouter sedisg geanitute enndhistry sfrheinheinn attoer tou a t s dy adsh p ahires er tou a t s ih  car a td r itt thmedoaythee \n",
            "====================\n"
          ]
        }
      ]
    },
    {
      "cell_type": "code",
      "source": [
        "rus_encoded = [normalize_text(text, RUSSIAN_ALPHABET) for text in encode_all(russian_test_texts, RUSSIAN_ALPHABET)]\n",
        "rus_decoded = decode_bigram_all(rus_encoded, lang_histogram, RUSSIAN_ALPHABET)\n",
        "\n",
        "for decoded_text, encoded_text, original_text in zip(rus_decoded, rus_encoded, russian_test_texts):\n",
        "    print(\"Предобработанный оригинальный текст:\")\n",
        "    print(normalize_text(original_text, RUSSIAN_ALPHABET))\n",
        "    print(\"Закодированный перестановкой текст\")\n",
        "    print(encoded_text)\n",
        "    print(\"Декодированный текст:\")\n",
        "    print(decoded_text)\n",
        "    print('=' * 20)"
      ],
      "metadata": {
        "colab": {
          "base_uri": "https://localhost:8080/"
        },
        "id": "6VYf_w8J1jMm",
        "outputId": "5360575c-78fe-4021-b03a-9fbee2c9d58a"
      },
      "execution_count": 12,
      "outputs": [
        {
          "output_type": "stream",
          "name": "stdout",
          "text": [
            "Предобработанный оригинальный текст:\n",
            "    и скучно и грустно и некому руку подать    в минуту душевной невзгоды    желанья что пользы напрасно и вечно желать    а годы проходят  все лучшие годы    любить но кого же на время  не стоит труда    а вечно любить невозможно    в себя ли заглянешь  там прошлого нет и следа    и радость и муки и вс там ничтожно    что страсти  ведь рано иль поздно их сладкий недуг    исчезнет при слове рассудка    и жизнь как посмотришь с холодным вниманьем вокруг     такая пустая и глупая шутка    \n",
            "Закодированный перестановкой текст\n",
            "ррррпрбйхчоурпрсыхбаоурпроейулхрыхйхръувфажррррэрлпохахрвхьеэоу роеэисувюррррцешфожзрчауръушжиюрофъыфбоурпрэечоурцешфажррррфрсувюръыунувзаррэбершхчьперсувюрррршкгпажроурйусурцерофрэыелзрроербаупараыхвфррррфрэечоуршкгпажроеэуилуцоуррррэрбегзршприфсшзоеьжррафлръыуьшусуроеарпрбшевфррррпрыфвубажрпрлхйпрпрэбрафлропчауцоуррррчаурбаыфбапррэевжрыфоурпшжръуивоурпнрбшфвйп роевхсррррпбчеиоеаръыпрбшуэерыфббхвйфррррпрцпиожрйфйръублуаыпьжрбрнушувоюлрэоплфожелрэуйыхсрррррафйфзръхбафзрпрсшхъфзрьхайфрррр\n",
            "Декодированный текст:\n",
            "о о и обза се непо к се  пвсчеенпо м о и г во  нтьннк еноммаатди понар икоо овоглаамтел  от секон й ло се  нак совог г во дене икой  л исоо веалда эедне икоо м  еор в сасема ни пя иежест пал ккн бв лея о де нак см  еор втос хобы со о ил зылм и этдотвое ввоав о рбеема то би репря о е ноесчтнае ть чи и вевоав птул моа о тел   в лоидо какрнолаа ля врасв се окреестисктоомю о е  жсито бй и редналгогллееро о и ожин вер яратыязх ми  знт  иый датымлаут дс ицвио о ворува отарости досавауск еро о \n",
            "====================\n",
            "Предобработанный оригинальный текст:\n",
            "    вг белинский писал об этом стихотворении и скучно и грустно из всех пьес лермонтова обратила на себя особенную неприязнь старого поколения     странные люди им все кажется что поэзия должна выдумывать     а не быть жрицею истины тешить побрякушками а не греметь правдою     \n",
            "Закодированный перестановкой текст\n",
            "щщщщньщбчаяскшяищуяклащмбщх мощк япм нмвчсяящящкшъфсмщящьвък смщяйщнкчпщугчкщачвомс мнлщмбвл яалщслщкчбещмкмбчссъдщсчувяейсгщк лвмьмщумшмачсяещщщщщк влссцчщадтящяощнкчщшлрч кещф мщумхйяещтмарслщнцтъоцнл гщщщщщлщсчщбц гщрвяючдщяк ясцщ чжя гщумбвешъжшлоящлщсчщьвчоч гщувлнтмдщщщщщ\n",
            "Декодированный текст:\n",
            "о о тал анка бтьи м скнатеодн е годеы  залда ве ер е о п тасем оже  неойетмоотмильчттиа топогоняя а несьнаю й лох я рув обсяе вс аими трелалкоо о е аямаре имеам ввоон иприв л к э ооведкослелкна хоылшеоссто о зая  иадсттвв беном горетукрсв новлаокспприззая  и тсива норгл мноо о \n",
            "====================\n",
            "Предобработанный оригинальный текст:\n",
            "    при возникновении теоремы байеса вероятности используемые в теореме подвергались целому ряду вероятностных интерпретаций в одной из таких интерпретаций говорилось     что вывод формулы напрямую связан с применением особого подхода к статистическому анализу     если использовать байесовскую интерпретацию вероятности то теорема показывает как личный уровень доверия может кардинально измениться вследствие количества наступивших событий    \n",
            "Закодированный перестановкой текст\n",
            "щщщщцбзщкрйгзвгркугззщяурбуэнщь жуе щкубрмягреязщзецрчъйыуэнущкщяурбуэущцрдкубш чзеъщхучрэыщбмдыщкубрмягреягнлщзгяубцбуя хзжщкщрдгржщзйщя взлщзгяубцбуя хзжщшркрбзчреъщщщщщиярщкнкрдщюрбэычнщг цбмэысщекмй гщещцбзэугугзуэщрерьршрщцрдлрд щвщея язеязиуеврэыщ г чзйыщщщщщуечзщзецрчъйрк яъщь жуеркевысщзгяубцбуя хзсщкубрмягреязщярщяурбуэ щцрв йнк уящв вщчзигнжщыбркугъщдркубзмщэроуящв бдзг чъгрщзйэугзяъемщкечудеякзущврчзиуеяк щг еяыцзказлщерьнязжщщщщ\n",
            "Декодированный текст:\n",
            "о о  в косвию  н ска ктонаь атогт руи а ливоалне подлон обомв детонаь в посяа чера р аимвеол заяи а ливоалвома пваа  вкозарии аздиме паровампренто м оовтал асосй ы  ро о нуеми женосонаериелесл зер чкнбоойотя й еладкаь аз гтвася нобеудниотовнее илгольершионраако о туес кропооридтьчтсктего  авс  пваа  вкозаляи а ливоалнест ттонаь  бпок сптькони е жилдал гл   и дия сй няяззнегк уленреее танелкачтийи есяте шав льрамие тьлевнлсевоч уотбыр рио о \n",
            "====================\n"
          ]
        }
      ]
    },
    {
      "cell_type": "markdown",
      "source": [
        "Выглядит еще хуже, чем с одиночными буквами, так как теперь не сохраняется даже длина слов, узнать первоначальный текст невозможно. Это, очевидно, происходит по причине бОльшего разнообразия биграм по сравнению с одиночными буквами. Для некоторых тестовых примеров число возможных биграмм превосходит число всевозможных биграмм текста, из-за этого результат получается очень шумный.\n",
        "\n",
        "Имеет смысл сравниваться на текстах сравнимой с обучающим корпусом длины. Попробуем преобразовать роман \"Анна Каренина\"."
      ],
      "metadata": {
        "id": "eoL5uwJ44IGe"
      }
    },
    {
      "cell_type": "code",
      "source": [
        "with open('AnnaKarenina.txt', 'r') as file:\n",
        "    anna_karenina = file.read()\n",
        "print(f\"Длина романа в символах: {len(anna_karenina)}\")\n",
        "print(normalize_text(anna_karenina[:200], RUSSIAN_ALPHABET))\n",
        "print(decode_bigram(shuffle_encode(anna_karenina, RUSSIAN_ALPHABET), lang_histogram, RUSSIAN_ALPHABET)[:200])"
      ],
      "metadata": {
        "colab": {
          "base_uri": "https://localhost:8080/"
        },
        "id": "HlCEvjc14ql3",
        "outputId": "0ea69d05-8143-4c7d-82ba-f698f4cc4322"
      },
      "execution_count": 13,
      "outputs": [
        {
          "output_type": "stream",
          "name": "stdout",
          "text": [
            "Длина романа в символах: 1813200\n",
            "анна каренина один из самых знаменитых романов льва толстого начинается ставшей афоризмом фразой все счастливые семьи похожи друг на друга каждая несчастливая семья несчастлива по\n",
            "ат калхо бжеа дажея д икуммашиие бмитнмооматкатиэна  нош нне слюжежиаг о иинылротлреляю олрвасру вде пму изакни деыде ношеулм босс км бодвалба з онаибесявдией петке сбыму изаел  ли детотимо зоига о ве\n"
          ]
        }
      ]
    },
    {
      "cell_type": "markdown",
      "source": [
        "Кажется, что даже этого не достаточно, такое чувство, что размер корпуса, на котором мы считаем частоты биграм недостаточен для этого метода."
      ],
      "metadata": {
        "id": "-kSiijr06clA"
      }
    },
    {
      "cell_type": "markdown",
      "source": [
        "## 3. Markov Chain Monte-Carlo\n",
        "Но и это ещё не всё: биграммы скорее всего тоже далеко не всегда работают. Основная часть задания — в том, как можно их улучшить:\n",
        "\n",
        "\n",
        "1.   предложите метод обучения перестановки символов в этом задании, основанный на MCMC-сэмплировании, но по-прежнему работающий на основе статистики биграмм;\n",
        "2.   реализуйте и протестируйте его, убедитесь, что результаты улучшились.\n",
        "\n",
        "Мы знаем, что текст, который мы расшифровываем получен с помощью перестановки букв исходного алфавита:\n",
        "$\\text{encoded} = \\sigma(\\text{text})$\n",
        "\n",
        "**Задача:** Найти перестановку $\\sigma$ максимизирующую правдоподобие\n",
        "$$\\sigma: P(\\text{text} | \\sigma) \\to_{\\sigma} \\max$$\n",
        "\n",
        "**Алгоритм: [Метрополиса-Гастингса]**:\n",
        "\n",
        "\n",
        "1.   Стартуем со случайного алфавита: $\\sigma_0$. Затем выполняем $N$ раз шаги 2-4.\n",
        "2.   Равновероятно выбираем пару $(a, b)$ различных символов алфавита и меняем их местами: $\\sigma_{i + 1} = \\sigma_i \\circ (ab)$.\n",
        "3. Считаем отношение правдоподобий\n",
        "$$\n",
        "a = \\frac{P(text | \\sigma_{i + 1})}{P(text | \\sigma_i)}\n",
        "$$\n",
        "При этом считать правдоподобие мы будем на основе статистики $n$-грамм.\n",
        "4. Принимаем эту перестановку с вероятностью $p=min(1, a)$.\n",
        "\n",
        "\n",
        "\n"
      ],
      "metadata": {
        "id": "lQebM_3a6phV"
      }
    },
    {
      "cell_type": "code",
      "source": [
        "import numpy as np\n",
        "\n",
        "from random import sample, random\n",
        "from tqdm import tqdm\n",
        "\n",
        "from multiprocessing import Pool\n",
        "from itertools import repeat"
      ],
      "metadata": {
        "id": "y6ikcAl6zQf1"
      },
      "execution_count": 144,
      "outputs": []
    },
    {
      "cell_type": "code",
      "source": [
        "class MCMCTransformer:\n",
        "    def __init__(self, alphabet: set, k_grams=2, max_iter=100):\n",
        "        self.n = k_grams\n",
        "        self.max_iter = max_iter\n",
        "        self.alphabet = alphabet\n",
        "        self.train_histogram = None\n",
        "\n",
        "    def get_text_histogram(self, text: str):\n",
        "        histogram = defaultdict(int)\n",
        "        end_window = self.n\n",
        "\n",
        "        while end_window <= len(text):\n",
        "            histogram[text[end_window - self.n: end_window]] += 1\n",
        "            end_window += 1\n",
        "\n",
        "        count = sum(histogram.values())\n",
        "        for gram in histogram:\n",
        "            histogram[gram] = histogram[gram] / count\n",
        "\n",
        "        return histogram\n",
        "\n",
        "    def fit(self, train_text: str):\n",
        "        normalized_text = normalize_text(train_text, self.alphabet)\n",
        "        self.train_histogram = self.get_text_histogram(normalized_text)\n",
        "        \n",
        "        return self\n",
        "\n",
        "    def translate(self, text: str, mapping: dict):\n",
        "        translated = []\n",
        "        for letter in text:\n",
        "            translated.append(mapping[letter])\n",
        "\n",
        "        return ''.join(translated)\n",
        "\n",
        "    def log_score(self, test_text: dict):\n",
        "        score = 0\n",
        "        end_window = self.n\n",
        "\n",
        "        while end_window <= len(test_text):\n",
        "            score += np.log(self.train_histogram.get(test_text[end_window - self.n: end_window], 1 / len(test_text)))\n",
        "            end_window += 1\n",
        "\n",
        "        return score\n",
        "\n",
        "    def transform(self, test_text: str):\n",
        "        test_alphabet = np.unique(list(test_text))\n",
        "        test_alphabet = test_alphabet\n",
        "        train_alphabet = list(self.alphabet)\n",
        "        shuffle(train_alphabet)\n",
        "        test_to_train = {test_letter:train_letter  for train_letter, test_letter in zip(train_alphabet, test_alphabet)}\n",
        "        prev_score = self.log_score(self.translate(test_text, test_to_train))\n",
        "\n",
        "        acceptance_count = 0\n",
        "\n",
        "        for _ in tqdm(range(self.max_iter)):\n",
        "            i, j = sample(np.arange(len(train_alphabet)).tolist(), 2)\n",
        "            train_alphabet[i], train_alphabet[j] = train_alphabet[j], train_alphabet[i]\n",
        "\n",
        "            test_to_train_new = {test_letter:train_letter  for train_letter, test_letter in zip(train_alphabet, test_alphabet)}\n",
        "            score = self.log_score(self.translate(test_text, test_to_train_new))\n",
        "\n",
        "            accept_proba = min(1, np.exp(score - prev_score))\n",
        "            \n",
        "            if random() < accept_proba:\n",
        "                acceptance_count += 1\n",
        "                prev_score = score\n",
        "                test_to_train = test_to_train_new\n",
        "            else:\n",
        "                train_alphabet[i], train_alphabet[j] = train_alphabet[j], train_alphabet[i]\n",
        "\n",
        "        print(f\"\\nAcceptance ratio: {acceptance_count / self.max_iter}\")\n",
        "\n",
        "        return self.translate(test_text, test_to_train)"
      ],
      "metadata": {
        "id": "U89NzAWoGHpp"
      },
      "execution_count": 128,
      "outputs": []
    },
    {
      "cell_type": "code",
      "source": [
        "len(eng_encoded[0])"
      ],
      "metadata": {
        "colab": {
          "base_uri": "https://localhost:8080/"
        },
        "id": "BfjoKAqaiz-Q",
        "outputId": "db18c631-421c-4c84-83bb-f68b33678c55"
      },
      "execution_count": 155,
      "outputs": [
        {
          "output_type": "execute_result",
          "data": {
            "text/plain": [
              "422"
            ]
          },
          "metadata": {},
          "execution_count": 155
        }
      ]
    },
    {
      "cell_type": "code",
      "source": [
        "mcmc = MCMCTransformer(ENGLISH_ALPHABET, max_iter=100_000).fit(war_and_peace_eng)\n",
        "\n",
        "eng_encoded = [normalize_text(text, ENGLISH_ALPHABET) for text in encode_all(english_test_texts, ENGLISH_ALPHABET)]\n",
        "eng_decoded = [mcmc.transform(text) for text in eng_encoded]\n",
        "\n",
        "for decoded_text, encoded_text, original_text in zip(eng_decoded, eng_encoded, english_test_texts):\n",
        "    print(\"Предобработанный оригинальный текст:\")\n",
        "    print(normalize_text(original_text, ENGLISH_ALPHABET))\n",
        "    print(\"Закодированный перестановкой текст\")\n",
        "    print(encoded_text)\n",
        "    print(\"Декодированный текст:\")\n",
        "    print(decoded_text)\n",
        "    print('=' * 20)"
      ],
      "metadata": {
        "id": "TG_dhflJhLBl",
        "colab": {
          "base_uri": "https://localhost:8080/"
        },
        "outputId": "1f4841b4-ec93-40d4-a938-44b4dfaf4897"
      },
      "execution_count": 161,
      "outputs": [
        {
          "output_type": "stream",
          "name": "stderr",
          "text": [
            "100%|██████████| 100000/100000 [01:17<00:00, 1292.88it/s]\n"
          ]
        },
        {
          "output_type": "stream",
          "name": "stdout",
          "text": [
            "\n",
            "Acceptance ratio: 0.02488\n"
          ]
        },
        {
          "output_type": "stream",
          "name": "stderr",
          "text": [
            "100%|██████████| 100000/100000 [01:06<00:00, 1497.92it/s]\n"
          ]
        },
        {
          "output_type": "stream",
          "name": "stdout",
          "text": [
            "\n",
            "Acceptance ratio: 0.02097\n"
          ]
        },
        {
          "output_type": "stream",
          "name": "stderr",
          "text": [
            "100%|██████████| 100000/100000 [01:18<00:00, 1269.16it/s]"
          ]
        },
        {
          "output_type": "stream",
          "name": "stdout",
          "text": [
            "\n",
            "Acceptance ratio: 0.00895\n",
            "Предобработанный оригинальный текст:\n",
            "    one of the many applications of bayes theorem is bayesian inference a particular approach to statistical inference     when applied the probabilities involved in the theorem may have different probability interpretations     with bayesian probability interpretation the theorem expresses how a degree of belief expressed as a probability should rationally change to account for the availability of related evidence    \n",
            "Закодированный перестановкой текст\n",
            "qqqqibmqikqaxmqdnbrqnggozfnazibcqikqunrmcqaxmi mdqzcqunrmcznbqzbkm mbfmqnqgn azfpon qngg infxqaiqcanazcazfnoqzbkm mbfmqqqqqjxmbqnggozmhqaxmqg iunuzozazmcqzbsiosmhqzbqaxmqaxmi mdqdnrqxnsmqhzkkm mbaqg iunuzozarqzbam g manazibcqqqqqjzaxqunrmcznbqg iunuzozarqzbam g manazibqaxmqaxmi mdqmwg mccmcqxijqnqhml mmqikqumozmkqmwg mccmhqncqnqg iunuzozarqcxipohq nazibnoorqfxnblmqaiqnffipbaqki qaxmqnsnzonuzozarqikq monamhqmszhmbfmqqqq\n",
            "Декодированный текст:\n",
            "    one of the many applications of wayes theorem is wayesian inference a particular approach to statistical inference     khen applied the prowawilities involved in the theorem may have different prowawility interpretations     kith wayesian prowawility interpretation the theorem ejpresses hok a degree of welief ejpressed as a prowawility should rationally change to account for the availawility of related evidence    \n",
            "====================\n",
            "Предобработанный оригинальный текст:\n",
            "    by modern standards we should refer to the bayesprice rule     price discovered bayess work recognized its importance corrected it contributed to the article and found a use for it     the modern convention of employing bayess name alone is unfair but so entrenched that anything else makes little sense    \n",
            "Закодированный перестановкой текст\n",
            "nnnnspnflrmjtny etrejrynomnydlzarnjmbmjn ln dmnsepmywjhgmnjzamnnnnnwjhgmnrhyglimjmrnsepmyynoljunjmglcthkmrnh ynhfwlj etgmngljjmg mrnh nglt jhsz mrn ln dmnej hgamnetrnblztrnenzymnbljnh nnnnn dmnflrmjtngltimt hltnlbnmfwalphtcnsepmyyntefmnealtmnhynztbehjnsz nylnmt jmtgdmrn de netp dhtcnmaymnfeumynah  amnymtymnnnn\n",
            "Декодированный текст:\n",
            "eeeeagey qhtiesoniqntqsephesw ljqethmhteo eowheanghsxtrdhetljheeeeextrdheqrsd chthqeanghssep tkethd viruhqeroseryx tonidhed tthdohqeroed iotralohqeo eowhentordjheniqem liqenelshem teroeeeeeowhey qhtied ichior ie mehyxj griveanghsseinyhenj iherselimnrtealoes ehiothidwhqeownoenigowrivehjsheynkhsejroojheshisheeee\n",
            "====================\n",
            "Предобработанный оригинальный текст:\n",
            "    existence and uniqueness of the needed conditional expectation is a consequence of the radonnikodym theorem    this was formulated by kolmogorov in his famous book from      kolmogorov underlines the importance of conditional probability by writing i wish to call attention to  and especially the theory of conditional probabilities and conditional expectations  in the preface    \n",
            "Закодированный перестановкой текст\n",
            "ggggowx poiaoguitgjixejoio  gcbgpvogioototgacitxpxciurgowloapupxcigx gugaci oejoiaogcbgpvogyutciixqctmzgpvocyozggggpvx gnu gbcyzjrupotgsmgqcrzcdcychgxigvx gbuzcj gsccqgbyczggggggqcrzcdcychgjitoyrxio gpvogxzlcypuiaogcbgacitxpxciurglycsusxrxpmgsmgnyxpxidgxgnx vgpcgaurrguppoipxcigpcgguitgo loaxurrmgpvogpvocymgcbgacitxpxciurglycsusxrxpxo guitgacitxpxciurgowloapupxci ggxigpvoglyobuaogggg\n",
            "Декодированный текст:\n",
            "eeeetyarnt ited hef azft trresmengte tththeis hanas dletyctindnas earedeis rtzft itesmengteodhs  avshbuengtsotueeeengarewdremsoufldntheqbevsluspsoskea egaremdusfreqssvemosueeeeeevsluspsoskef htola trengteaucsond itesmeis hanas dlecosqdqalanbeqbewoana peaewargenseidllednnt nas enseed hetrctiadllbengtengtsobesmeis hanas dlecosqdqalanatred heis hanas dletyctindnas reea engtecotmditeeee\n",
            "====================\n"
          ]
        },
        {
          "output_type": "stream",
          "name": "stderr",
          "text": [
            "\n"
          ]
        }
      ]
    },
    {
      "cell_type": "code",
      "source": [
        "mcmc = MCMCTransformer(RUSSIAN_ALPHABET, max_iter=100_000).fit(war_and_peace)\n",
        "\n",
        "rus_encoded = [normalize_text(text, RUSSIAN_ALPHABET) for text in encode_all(russian_test_texts, RUSSIAN_ALPHABET)]\n",
        "rus_decoded = [mcmc.transform(text) for text in rus_encoded]\n",
        "\n",
        "for decoded_text, encoded_text, original_text in zip(rus_decoded, rus_encoded, russian_test_texts):\n",
        "    print(\"Предобработанный оригинальный текст:\")\n",
        "    print(normalize_text(original_text, RUSSIAN_ALPHABET))\n",
        "    print(\"Закодированный перестановкой текст\")\n",
        "    print(encoded_text)\n",
        "    print(\"Декодированный текст:\")\n",
        "    print(decoded_text)\n",
        "    print('=' * 20)"
      ],
      "metadata": {
        "colab": {
          "base_uri": "https://localhost:8080/"
        },
        "id": "vvYiA1xfLQrQ",
        "outputId": "c6dea263-f76a-4179-b201-e62d180233bf"
      },
      "execution_count": 163,
      "outputs": [
        {
          "output_type": "stream",
          "name": "stderr",
          "text": [
            "100%|██████████| 100000/100000 [01:39<00:00, 1007.00it/s]\n"
          ]
        },
        {
          "output_type": "stream",
          "name": "stdout",
          "text": [
            "\n",
            "Acceptance ratio: 0.02307\n"
          ]
        },
        {
          "output_type": "stream",
          "name": "stderr",
          "text": [
            "100%|██████████| 100000/100000 [00:58<00:00, 1714.60it/s]\n"
          ]
        },
        {
          "output_type": "stream",
          "name": "stdout",
          "text": [
            "\n",
            "Acceptance ratio: 0.01478\n"
          ]
        },
        {
          "output_type": "stream",
          "name": "stderr",
          "text": [
            "100%|██████████| 100000/100000 [01:28<00:00, 1128.58it/s]"
          ]
        },
        {
          "output_type": "stream",
          "name": "stdout",
          "text": [
            "\n",
            "Acceptance ratio: 0.01369\n",
            "Предобработанный оригинальный текст:\n",
            "    и скучно и грустно и некому руку подать    в минуту душевной невзгоды    желанья что пользы напрасно и вечно желать    а годы проходят  все лучшие годы    любить но кого же на время  не стоит труда    а вечно любить невозможно    в себя ли заглянешь  там прошлого нет и следа    и радость и муки и вс там ничтожно    что страсти  ведь рано иль поздно их сладкий недуг    исчезнет при слове рассудка    и жизнь как посмотришь с холодным вниманьем вокруг     такая пустая и глупая шутка    \n",
            "Закодированный перестановкой текст\n",
            "оооочомкбфшдочоахбмюшдочошъкдебохбкботдщзюэоооопоечшбюбощбвъпшдлошъпйадщцооооръызшэжофюдотдыэйцошзтхзмшдочопъфшдоръызюэоооозоадщцотхдудщжюоопмъоыбфвчъоадщцооооынячюэошдокдадоръошзопхъежоошъомюдчюоюхбщзоооозопъфшдоынячюэошъпдйедршдоооопомъяжоычойзаыжшъвэооюзеотхдвыдадошъюочомыъщзоооочохзщдмюэочоебкчочопмоюзеошчфюдршдоооофюдомюхзмючоопъщэохзшдочыэотдйщшдочуомызщкчлошъщбаоооочмфъйшъюотхчомыдпъохзммбщкзоооочорчйшэокзкотдмедюхчвэомоудыдщшцеопшчезшэъеопдкхбаоооооюзкзжотбмюзжочоаыбтзжовбюкзоооо\n",
            "Декодированный текст:\n",
            "    с кяытел с гвыкоел с ерялуы выяы плиной    д усеыоы иычрдель ердъглим    жранейх тол плайъм енпвнкел с дртел жраной    н глим пвлблихо  дкр аытчср глим    азщсой ел ялгл жр ен дврух  ер колсо овыин    н дртел азщсой ердлъулжел    д крщх ас ънгахерчй  ону пвлчалгл еро с карин    с внилкой с уыяс с дк ону естолжел    тол ковнкос  дрий внел сай плъиел сб каниясь ериыг    сктръеро пвс калдр внккыиян    с жсъей яня плкуловсчй к блалиему десунейру длявыг     онянх пыконх с гаыпнх чыоян    \n",
            "====================\n",
            "Предобработанный оригинальный текст:\n",
            "    вг белинский писал об этом стихотворении и скучно и грустно из всех пьес лермонтова обратила на себя особенную неприязнь старого поколения     странные люди им все кажется что поэзия должна выдумывать     а не быть жрицею истины тешить побрякушками а не греметь правдою     \n",
            "Закодированный перестановкой текст\n",
            "ффффояфцжгхыдрхлфсхдшгфзцфчйзюфдйхузйозкжыххфхфдрбаызфхфякбдйызфхефоджуфсвждфгжкюзыйзошфзцкшйхгшфышфджцъфздзцжыыбнфыжскхъеывфдйшкзязфсзрзгжыхъфффффдйкшыыэжфгньхфхюфоджфрштжйдъфайзфсзчехъфьзгтышфоэьбюэошйвфффффшфыжфцэйвфткхщжнфхдйхыэфйж хйвфсзцкърб ршюхфшфыжфякжюжйвфскшоьзнффффф\n",
            "Декодированный текст:\n",
            "ъъъъкьъулачиодчжъсчораънуъц нйъо чян кнеличчъчъодщминъчъьещо инъчфъколяъсплоъалейни нкрънуер чаръиръолугънонулиищюъилсечгфипъо реньнъсндналичгъъъъъо ерииылъаюэчъчйъколъдртл огъм нъснцфчгъэнатиръкыэщйыкр пъъъъъръилъуы пътечвлюъчо чиыъ лхч пъснуегдщхдрйчъръилъьелйл пъсеркэнюъъъъъ\n",
            "====================\n",
            "Предобработанный оригинальный текст:\n",
            "    при возникновении теоремы байеса вероятности используемые в теореме подвергались целому ряду вероятностных интерпретаций в одной из таких интерпретаций говорилось     что вывод формулы напрямую связан с применением особого подхода к статистическому анализу     если использовать байесовскую интерпретацию вероятности то теорема показывает как личный уровень доверия может кардинально измениться вследствие количества наступивших событий    \n",
            "Закодированный перестановкой текст\n",
            "ттттюевтцбэйвсйбцхйввтфхбехдлтркяхжктцхебыфйбжфвтвжюбмщэшхдлхтцтфхбехдхтюбуцхеакмвжщтъхмбдштеыуштцхебыфйбжфйлнтвйфхеюехфкъвятцтбуйбятвэтфксвнтвйфхеюехфкъвятабцбевмбжщтттттофбтцлцбутзбедшмлтйкюеыдшчтжцыэкйтжтюевдхйхйвхдтбжбрбабтюбунбуктстжфкфвжфвохжсбдшткйкмвэштттттхжмвтвжюбмщэбцкфщтркяхжбцжсшчтвйфхеюехфкъвчтцхебыфйбжфвтфбтфхбехдктюбскэлцкхфтскстмвойлятшебцхйщтубцхевытдбьхфтскеувйкмщйбтвэдхйвфщжытцжмхужфцвхтсбмвохжфцктйкжфшювцивнтжбрлфвятттт\n",
            "Декодированный текст:\n",
            "    при воъникновении теоремы баяеса веройтности испольъуемые в теореме подвергались желому рйду веройтностных интерпретажия в одноя иъ таких интерпретажия говорилось     что вывод зормулы напрймую свйъан с применением особого подхода к статистическому аналиъу     если испольъовать баяесовскую интерпретажию веройтности то теорема покаъывает как личныя уровень доверий мошет кардинально иъменитьсй вследствие количества наступивфих события    \n",
            "====================\n"
          ]
        },
        {
          "output_type": "stream",
          "name": "stderr",
          "text": [
            "\n"
          ]
        }
      ]
    },
    {
      "cell_type": "markdown",
      "source": [
        "Результат уже сильно лучше, чем у частотных методов. В среднем, за 100_000 итераций один из трех текстов полностью расшифровывается для отдельных языков. Очевидно, для большего числа итераций (напр. 1_000_000) мы получили бы лучшую картину. \n",
        "\n",
        "Кроме того, видно, что очень много изменений мы отвергаем (около 98%), что тоже очень сильно влияет на сходимость. Для ускорения сходимости можно было бы поработать над алгоритмом выбора соседей (напр. не рассматривать маппинги, которые уже были обсчитаны)."
      ],
      "metadata": {
        "id": "n8IkyPqinCm7"
      }
    },
    {
      "cell_type": "markdown",
      "source": [
        "## 4. Расшифровка данного в задании сообщения"
      ],
      "metadata": {
        "id": "Lez_XO6Ffg0V"
      }
    },
    {
      "cell_type": "code",
      "source": [
        "test_text = \"←⇠⇒↟↹↷⇊↹↷↟↤↟↨←↹↝⇛⇯↳⇴⇒⇈↝⇊↾↹↟⇒↟↹⇷⇛⇞↨↟↹↝⇛⇯↳⇴⇒⇈↝⇊↾↹↨←⇌⇠↨↹⇙↹⇸↨⇛↙⇛↹⇠⇛⇛↲⇆←↝↟↞↹⇌⇛↨⇛⇯⇊↾↹⇒←↙⇌⇛↹⇷⇯⇛⇞↟↨⇴↨⇈↹⇠⇌⇛⇯←←↹↷⇠←↙⇛↹↷⇊↹↷⇠←↹⇠↤←⇒⇴⇒↟↹⇷⇯⇴↷↟⇒⇈↝⇛↹↟↹⇷⇛⇒⇙⇞↟↨←↹↳⇴⇌⇠↟↳⇴⇒⇈↝⇊↾↹↲⇴⇒⇒↹⇰⇴↹⇷⇛⇠⇒←↤↝←←↹⇞←↨↷←⇯↨⇛←↹⇰⇴↤⇴↝↟←↹⇌⇙⇯⇠⇴↹↘⇛↨↞↹⇌⇛↝←⇞↝⇛↹↞↹↝↟⇞←↙⇛↹↝←↹⇛↲←⇆⇴⇏\""
      ],
      "metadata": {
        "id": "m3pUy88yK9w7"
      },
      "execution_count": 166,
      "outputs": []
    },
    {
      "cell_type": "code",
      "source": [
        "mcmc = MCMCTransformer(RUSSIAN_ALPHABET, max_iter=1_000_000).fit(war_and_peace)\n",
        "\n",
        "print(\"Russian translate:\")\n",
        "print(mcmc.transform(test_text))"
      ],
      "metadata": {
        "colab": {
          "base_uri": "https://localhost:8080/"
        },
        "id": "x14S6B8MfmfB",
        "outputId": "3ac7a1a6-3fc6-4f95-8be3-264924816aad"
      },
      "execution_count": 168,
      "outputs": [
        {
          "output_type": "stream",
          "name": "stdout",
          "text": [
            "Russian translate:\n"
          ]
        },
        {
          "output_type": "stream",
          "name": "stderr",
          "text": [
            "100%|██████████| 1000000/1000000 [08:00<00:00, 2081.53it/s]"
          ]
        },
        {
          "output_type": "stream",
          "name": "stdout",
          "text": [
            "\n",
            "Acceptance ratio: 0.031712\n",
            "если вы вимите ноъкальныя или подти ноъкальныя терст у щтого соочхений ротоъыя легро пъодитать сроъее всего вы все смелали пъавильно и полудите карсикальныя чалл за послемнее детвеътое замание руъса эотй ронедно й нидего не очехаш\n"
          ]
        },
        {
          "output_type": "stream",
          "name": "stderr",
          "text": [
            "\n"
          ]
        }
      ]
    },
    {
      "cell_type": "markdown",
      "source": [
        "\n",
        "\n",
        "> Если вы видите нормальный или почти нормальный текст у этого сообщения который легко прочитать, скорее всего вы все сделали правильно и получите максимальный балл за последнее четвертое задание курса хотя конечно я ничего не обещаю\n",
        "\n"
      ],
      "metadata": {
        "id": "5khshwZprMif"
      }
    },
    {
      "cell_type": "markdown",
      "source": [
        "## 5. Использование триграмм"
      ],
      "metadata": {
        "id": "hu9MsVCjk8b1"
      }
    },
    {
      "cell_type": "code",
      "source": [
        "mcmc = MCMCTransformer(ENGLISH_ALPHABET, max_iter=100_000, k_grams=3).fit(war_and_peace_eng)\n",
        "\n",
        "eng_encoded = [normalize_text(text, ENGLISH_ALPHABET) for text in encode_all(english_test_texts, ENGLISH_ALPHABET)]\n",
        "eng_decoded = [mcmc.transform(text) for text in eng_encoded]\n",
        "\n",
        "for decoded_text, encoded_text, original_text in zip(eng_decoded, eng_encoded, english_test_texts):\n",
        "    print(\"Предобработанный оригинальный текст:\")\n",
        "    print(normalize_text(original_text, ENGLISH_ALPHABET))\n",
        "    print(\"Закодированный перестановкой текст\")\n",
        "    print(encoded_text)\n",
        "    print(\"Декодированный текст:\")\n",
        "    print(decoded_text)\n",
        "    print('=' * 20)"
      ],
      "metadata": {
        "colab": {
          "base_uri": "https://localhost:8080/"
        },
        "id": "HG37GMuwkSiZ",
        "outputId": "3d7e25c1-b494-442e-b16a-d53669711047"
      },
      "execution_count": 169,
      "outputs": [
        {
          "output_type": "stream",
          "name": "stderr",
          "text": [
            "100%|██████████| 100000/100000 [01:28<00:00, 1135.96it/s]\n"
          ]
        },
        {
          "output_type": "stream",
          "name": "stdout",
          "text": [
            "\n",
            "Acceptance ratio: 0.12\n"
          ]
        },
        {
          "output_type": "stream",
          "name": "stderr",
          "text": [
            "100%|██████████| 100000/100000 [01:02<00:00, 1600.48it/s]\n"
          ]
        },
        {
          "output_type": "stream",
          "name": "stdout",
          "text": [
            "\n",
            "Acceptance ratio: 0.09168\n"
          ]
        },
        {
          "output_type": "stream",
          "name": "stderr",
          "text": [
            "100%|██████████| 100000/100000 [01:14<00:00, 1341.86it/s]"
          ]
        },
        {
          "output_type": "stream",
          "name": "stdout",
          "text": [
            "\n",
            "Acceptance ratio: 0.103\n",
            "Предобработанный оригинальный текст:\n",
            "    one of the many applications of bayes theorem is bayesian inference a particular approach to statistical inference     when applied the probabilities involved in the theorem may have different probability interpretations     with bayesian probability interpretation the theorem expresses how a degree of belief expressed as a probability should rationally change to account for the availability of related evidence    \n",
            "Закодированный перестановкой текст\n",
            "ggggehjge gfzjgndhsgdppwybdfyehtge gxdsjtgfzjeijngytgxdsjtydhgyh jijhbjgdgpdifyblwdigdppiedbzgfegtfdfytfybdwgyh jijhbjgggggkzjhgdppwyjagfzjgpiexdxywyfyjtgyhmewmjagyhgfzjgfzjeijngndsgzdmjgay  jijhfgpiexdxywyfsgyhfjipijfdfyehtgggggkyfzgxdsjtydhgpiexdxywyfsgyhfjipijfdfyehgfzjgfzjeijngjvpijttjtgzekgdgajcijjge gxjwyj gjvpijttjagdtgdgpiexdxywyfsgtzelwagidfyehdwwsgbzdhcjgfegdbbelhfg eigfzjgdmdywdxywyfsge gijwdfjagjmyajhbjgggg\n",
            "Декодированный текст:\n",
            "zzzzbmxzbszdcxzuqmyzqgghjrqdjbmwzbszpqyxwzdcxbvxuzjwzpqyxwjqmzjmsxvxmrxzqzgqvdjrfhqvzqggvbqrczdbzwdqdjwdjrqhzjmsxvxmrxzzzzztcxmzqgghjxnzdcxzgvbpqpjhjdjxwzjmlbhlxnzjmzdcxzdcxbvxuzuqyzcqlxznjssxvxmdzgvbpqpjhjdyzjmdxvgvxdqdjbmwzzzzztjdczpqyxwjqmzgvbpqpjhjdyzjmdxvgvxdqdjbmzdcxzdcxbvxuzxogvxwwxwzcbtzqznxkvxxzbszpxhjxszxogvxwwxnzqwzqzgvbpqpjhjdyzwcbfhnzvqdjbmqhhyzrcqmkxzdbzqrrbfmdzsbvzdcxzqlqjhqpjhjdyzbszvxhqdxnzxljnxmrxzzzz\n",
            "====================\n",
            "Предобработанный оригинальный текст:\n",
            "    by modern standards we should refer to the bayesprice rule     price discovered bayess work recognized its importance corrected it contributed to the article and found a use for it     the modern convention of employing bayess name alone is unfair but so entrenched that anything else makes little sense    \n",
            "Закодированный перестановкой текст\n",
            "    ep htlxsc frucluslf jx fqtygl sxmxs rt rqx eupxfnswax sygx     nswax lwfatvxsxl eupxff jtsd sxatkcwixl wrf whntsrucax atssxarxl wr atcrsweyrxl rt rqx usrwagx ucl mtycl u yfx mts wr     rqx htlxsc atcvxcrwtc tm xhngtpwck eupxff cuhx ugtcx wf ycmuws eyr ft xcrsxcaqxl rqur ucprqwck xgfx hudxf gwrrgx fxcfx    \n",
            "Декодированный текст:\n",
            "qqqqscqwxyjgzqnvlzylgynq jqnhxdfyqgjkjgqvxqvhjqslcjnpgbmjqgdfjqqqqqpgbmjqybnmxojgjyqslcjnnq xguqgjmxrzbajyqbvnqbwpxgvlzmjqmxggjmvjyqbvqmxzvgbsdvjyqvxqvhjqlgvbmfjqlzyqkxdzyqlqdnjqkxgqbvqqqqqvhjqwxyjgzqmxzojzvbxzqxkqjwpfxcbzrqslcjnnqzlwjqlfxzjqbnqdzklbgqsdvqnxqjzvgjzmhjyqvhlvqlzcvhbzrqjfnjqwlujnqfbvvfjqnjznjqqqq\n",
            "====================\n",
            "Предобработанный оригинальный текст:\n",
            "    existence and uniqueness of the needed conditional expectation is a consequence of the radonnikodym theorem    this was formulated by kolmogorov in his famous book from      kolmogorov underlines the importance of conditional probability by writing i wish to call attention to  and especially the theory of conditional probabilities and conditional expectations  in the preface    \n",
            "Закодированный перестановкой текст\n",
            "llllfcaynfxbflkxhl xag fxfyylzvlnuflxffhfhlbzxhanazxkolfcqfbnknazxlaylklbzxyfg fxbflzvlnufljkhzxxaezhwdlnufzjfdllllnuaylikylvzjd oknfhlpwlezodzszjztlaxluaylvkdz ylpzzelvjzdllllllezodzszjztl xhfjoaxfylnufladqzjnkxbflzvlbzxhanazxkolqjzpkpaoanwlpwlijanaxslaliayulnzlbkoolknnfxnazxlnzllkxhlfyqfbakoowlnuflnufzjwlzvlbzxhanazxkolqjzpkpaoanafylkxhlbzxhanazxkolfcqfbnknazxyllaxlnuflqjfvkbfllll\n",
            "Декодированный текст:\n",
            "qqqqxdzrbxfkxqnfwqtfzytxfxrrqjlqbcxqfxxwxwqkjfwzbzjfnpqxdaxkbnbzjfqzrqnqkjfrxytxfkxqjlqbcxqmnwjffzujwhvqbcxjmxvqqqqbczrqsnrqljmvtpnbxwqghqujpvjijmjeqzfqczrqlnvjtrqgjjuqlmjvqqqqqqujpvjijmjeqtfwxmpzfxrqbcxqzvajmbnfkxqjlqkjfwzbzjfnpqamjgngzpzbhqghqsmzbzfiqzqszrcqbjqknppqnbbxfbzjfqbjqqnfwqxraxkznpphqbcxqbcxjmhqjlqkjfwzbzjfnpqamjgngzpzbzxrqnfwqkjfwzbzjfnpqxdaxkbnbzjfrqqzfqbcxqamxlnkxqqqq\n",
            "====================\n"
          ]
        },
        {
          "output_type": "stream",
          "name": "stderr",
          "text": [
            "\n"
          ]
        }
      ]
    },
    {
      "cell_type": "code",
      "source": [
        "mcmc = MCMCTransformer(RUSSIAN_ALPHABET, max_iter=100_000, k_grams=3).fit(war_and_peace)\n",
        "\n",
        "rus_encoded = [normalize_text(text, RUSSIAN_ALPHABET) for text in encode_all(russian_test_texts, RUSSIAN_ALPHABET)]\n",
        "rus_decoded = [mcmc.transform(text) for text in rus_encoded]\n",
        "\n",
        "for decoded_text, encoded_text, original_text in zip(rus_decoded, rus_encoded, russian_test_texts):\n",
        "    print(\"Предобработанный оригинальный текст:\")\n",
        "    print(normalize_text(original_text, RUSSIAN_ALPHABET))\n",
        "    print(\"Закодированный перестановкой текст\")\n",
        "    print(encoded_text)\n",
        "    print(\"Декодированный текст:\")\n",
        "    print(decoded_text)\n",
        "    print('=' * 20)"
      ],
      "metadata": {
        "colab": {
          "base_uri": "https://localhost:8080/"
        },
        "id": "Yx62QGKUlEoH",
        "outputId": "c22d5a37-94cd-4ca9-8ab6-3d7574b7084c"
      },
      "execution_count": 170,
      "outputs": [
        {
          "output_type": "stream",
          "name": "stderr",
          "text": [
            "100%|██████████| 100000/100000 [01:40<00:00, 995.73it/s]\n"
          ]
        },
        {
          "output_type": "stream",
          "name": "stdout",
          "text": [
            "\n",
            "Acceptance ratio: 0.21382\n"
          ]
        },
        {
          "output_type": "stream",
          "name": "stderr",
          "text": [
            "100%|██████████| 100000/100000 [01:06<00:00, 1510.61it/s]\n"
          ]
        },
        {
          "output_type": "stream",
          "name": "stdout",
          "text": [
            "\n",
            "Acceptance ratio: 0.22208\n"
          ]
        },
        {
          "output_type": "stream",
          "name": "stderr",
          "text": [
            "100%|██████████| 100000/100000 [01:40<00:00, 994.05it/s]"
          ]
        },
        {
          "output_type": "stream",
          "name": "stdout",
          "text": [
            "\n",
            "Acceptance ratio: 0.20408\n",
            "Предобработанный оригинальный текст:\n",
            "    и скучно и грустно и некому руку подать    в минуту душевной невзгоды    желанья что пользы напрасно и вечно желать    а годы проходят  все лучшие годы    любить но кого же на время  не стоит труда    а вечно любить невозможно    в себя ли заглянешь  там прошлого нет и следа    и радость и муки и вс там ничтожно    что страсти  ведь рано иль поздно их сладкий недуг    исчезнет при слове рассудка    и жизнь как посмотришь с холодным вниманьем вокруг     такая пустая и глупая шутка    \n",
            "Закодированный перестановкой текст\n",
            "ккккокрбзмйвкоктцзрхйвкокйлбвизкцзбзк вяпхдккккыкиойзхзкязълыйвькйлыштвяэккккглспйдчкмхвк всдшэкйп цпрйвкокылмйвкглспхдккккпктвяэк цвювячхккырлксзмъолктвяэкккксужохдкйвкбвтвкглкйпкыцличккйлкрхвохкхцзяпккккпкылмйвксужохдкйлывшивгйвккккыкрлжчксокшптсчйлъдккхпик цвъсвтвкйлхкокрсляпккккокцпяврхдкокизбококыркхпикйомхвгйвккккмхвкрхцпрхоккылядкцпйвкосдк вшяйвкоюкрспябоькйлязтккккормлшйлхк цокрсвылкцпррзябпккккокгошйдкбпбк вривхцоъдкркювсвяйэикыйоипйдликывбцзткккккхпбпчк зрхпчкоктсз пчкъзхбпкккк\n",
            "Декодированный текст:\n",
            "ххххюхцсжямйхюхьшжцэмйхюхмфсйгжхшжсжхдйъзэщххххпхгюмжэжхъжтфпмйехмфпньйърххххыфбзмщвхяэйхдйбщнрхмздшзцмйхюхпфямйхыфбзэщххххзхьйърхдшйлйъвэххпцфхбжятюфхьйърххххбчуюэщхмйхсйьйхыфхмзхпшфгвххмфхцэйюэхэшжъзххххзхпфямйхбчуюэщхмфпйнгйымйххххпхцфувхбюхнзьбвмфтщххэзгхдшйтбйьйхмфэхюхцбфъзххххюхшзъйцэщхюхгжсюхюхпцхэзгхмюяэйымйххххяэйхцэшзцэюххпфъщхшзмйхюбщхдйнъмйхюлхцбзъсюехмфъжьххххюцяфнмфэхдшюхцбйпфхшзццжъсзххххюхыюнмщхсзсхдйцгйэшютщхцхлйбйъмргхпмюгзмщфгхпйсшжьхххххэзсзвхджцэзвхюхьбждзвхтжэсзхххх\n",
            "====================\n",
            "Предобработанный оригинальный текст:\n",
            "    вг белинский писал об этом стихотворении и скучно и грустно из всех пьес лермонтова обратила на себя особенную неприязнь старого поколения     странные люди им все кажется что поэзия должна выдумывать     а не быть жрицею истины тешить побрякушками а не греметь правдою     \n",
            "Закодированный перестановкой текст\n",
            "ддддыьдлщйчхфрчъдэчфнйдалдяпатдфпчсапыабщхччдчдфр мхадчдьб фпхадчждыфщсдэищфдйщбтахпаындалбнпчйндхндфщлкдафалщхх едхщэбчкжхидфпнбаьадэарайщхчкдддддфпбнххущдйешчдчтдыфщдрнощпфкдмпадэаяжчкдшайохндыуш туынпидддддндхщдлупидобчгщедчфпчхудпщвчпидэалбкр врнтчдндхщдьбщтщпидэбнышаеддддд\n",
            "Декодированный текст:\n",
            "жжжжыджбъпхщсьхкжрхсэпжчбжнгчзжсгхачгычтъщххжхжсьйощчжхждтйсгщчжхфжысъажряъсжпътзчщгчыэжчбтэгхпэжщэжсъбцжчсчбъщщйлжщъртхцфщяжсгэтчдчжрчьчпъщхцжжжжжсгтэщщмъжплвхжхзжысъжьэшъгсцжогчжрчнфхцжвчпшщэжымвйзмыэгяжжжжжэжщъжбмгяжштхюължхсгхщмжгъ хгяжрчбтцьй ьэзхжэжщъждтъзъгяжртэывчлжжжжж\n",
            "====================\n",
            "Предобработанный оригинальный текст:\n",
            "    при возникновении теоремы байеса вероятности используемые в теореме подвергались целому ряду вероятностных интерпретаций в одной из таких интерпретаций говорилось     что вывод формулы напрямую связан с применением особого подхода к статистическому анализу     если использовать байесовскую интерпретацию вероятности то теорема показывает как личный уровень доверия может кардинально измениться вследствие количества наступивших событий    \n",
            "Закодированный перестановкой текст\n",
            "ььььйвсьифехсдхфизхссьюзфвзчпьжъязаъьизвфцюхфаюсьсайфщремзчпзьиьюзфвзчзьйфтизвыъщсарьнзщфчмьвцтмьизвфцюхфаюхпльсхюзвйвзюънсяьиьфтхфяьсеьюъдсльсхюзвйвзюънсяьыфифвсщфарьььььуюфьипифтьбфвчмщпьхъйвцчмоьаицеъхьаьйвсчзхзхсзчьфафжфыфьйфтлфтъьдьаюъюсаюсузадфчмьъхъщсемьььььзащсьсайфщрефиъюрьжъязафиадмоьсхюзвйвзюънсоьизвфцюхфаюсьюфьюзфвзчъьйфдъепиъзюьдъдьщсухпяьмвфизхрьтфизвсцьчфгзюьдъвтсхъщрхфьсечзхсюрацьиащзтаюисзьдфщсузаюиъьхъаюмйси сльафжпюсяьььь\n",
            "Декодированный текст:\n",
            "ццццгкэцнъхшэтшънпшээцмпъкпьбцющйпжщцнпкъдмшъжмэцэжгъзчхспьбпцнцмпъкпьпцгълнпкящзэжчцупзъьсцкдлсцнпкъдмшъжмшбоцэшмпкгкпмщуэйцнцълшъйцэхцмщтэоцэшмпкгкпмщуэйцяънъкэзъжчцццццрмъцнбнълцеъкьсзбцшщгкдьсфцжндхщшцжцгкэьпшпшэпьцъжъюъяъцгълоълщцтцжмщмэжмэрпжтъьсцщшщзэхсцццццпжзэцэжгъзчхънщмчцющйпжънжтсфцэшмпкгкпмщуэфцнпкъдмшъжмэцмъцмпъкпьщцгътщхбнщпмцтщтцзэршбйцскънпшчцлънпкэдцьъипмцтщклэшщзчшъцэхьпшэмчждцнжзплжмнэпцтъзэрпжмнщцшщжмсгэнвэоцжъюбмэйцццц\n",
            "====================\n"
          ]
        },
        {
          "output_type": "stream",
          "name": "stderr",
          "text": [
            "\n"
          ]
        }
      ]
    },
    {
      "cell_type": "markdown",
      "source": [
        "Кажется, будто при использовании триграмм кратно растет acceptance ratio, то есть как будто мы быстрее сходимся. Но все дело в том, что различных комбинаций триграмм получается слишком уж много и оценка логарифма правдоподобия получается очень шумной. Поэтому и расшифрованные тексты выглядят дико.\n",
        "\n",
        "Такой подход было бы логично оценивать на тестовых примерах большей длины, например на  первой тысячи символов нормализованной Анны Карениной."
      ],
      "metadata": {
        "id": "6rGGpzC7r3uX"
      }
    },
    {
      "cell_type": "code",
      "source": [
        "mcmc.transform(normalize_text(anna_karenina, RUSSIAN_ALPHABET)[:1000])"
      ],
      "metadata": {
        "colab": {
          "base_uri": "https://localhost:8080/",
          "height": 140
        },
        "id": "RRyBFl-wm5xh",
        "outputId": "a015cb0d-cd83-42c5-cbe5-ec2602c853b2"
      },
      "execution_count": 175,
      "outputs": [
        {
          "output_type": "stream",
          "name": "stderr",
          "text": [
            "100%|██████████| 100000/100000 [03:17<00:00, 507.25it/s]"
          ]
        },
        {
          "output_type": "stream",
          "name": "stdout",
          "text": [
            "\n",
            "Acceptance ratio: 0.11528\n"
          ]
        },
        {
          "output_type": "stream",
          "name": "stderr",
          "text": [
            "\n"
          ]
        },
        {
          "output_type": "execute_result",
          "data": {
            "text/plain": [
              "'щббщънщшчбцбщъфтцбъцлъйщжхсълбщжчбцэхсъшфжщбфпъмяпщъэфмйэфрфъбщкцбщчэйгъйэщпючвъщафшцлжфжъашщлфвъпйчъйкщйэмцпхчъйчжяцъыфсфдцътшзръбщътшзрщънщдтщгъбчйкщйэмцпщгъйчжягъбчйкщйэмцпщъыфйпфчжзъуэфънбцрщъфъпчкбхсъ чббфйэгсъфъмеьпцъфъпчшчъфъйчжячъфъкчмфпчкчйнфжътфйэфцбйэпчъъмчпъэфмйэфвшфжщбъюцшфнфрфътхсщбцгкщйэяъычшпщгмчпъэфмйэфвщббщънщшчбцбщшфжщбъюцшфнфрфътхсщбцгщббщънщшчбцбщъыфшщлцмщъйфпшчжчббцнфпъпйчтбчпбфйэяеъйфтчшдщбцгъбчфьхкщвбщгъйпфьфтщъшщйнфпщббфйэяъыфпчйэпфпщбцгъзтцпцэчмябфъйфкчэщмцйяъпъуэфжъшфжщбчъйъ чмябфйэяеъсзтфдчйэпчббфрфъплрмгтщъщпэфшщъбщъдцлбяъфбъпхйэзыщмълтчйяънщнъсзтфдбцнъцъжхймцэчмяъцъбщлбщкчбцчъцйнзййэпщъпцтчмъбчъпъэфжъкэфьхъбчфйыфшцжфъшщлшчюцэяъпфышфйъщъпъэфжъкэфьхълщйэщпцэяъмеьцэяъдцлбяъпъьчйкцймчббхсъбцнфртщъбчъцйэфоцжхсъпйчсъччъышфгпмчбцгсъъпъчърфтхъфтцбъжщйэцэхвъыцйщэчмяъыфпцтцжфжзърфбкщшфпъйнщлщмътфйэфчпйнфжзъуэфъпчояъбчймхсщббщгъуэфъпчояъычшпщгънэфъзъбщйъцлъыцйщэчмчвъжфдчэъыфшщпбгэяйгъйъуэцжъщъпъчпшфычъънэфъышчтйэщпцэъсфэяъкэфбцьзтяъыфтфьбфчъажътфйэфчпйнцвъбщсфтцмъпъб'"
            ],
            "application/vnd.google.colaboratory.intrinsic+json": {
              "type": "string"
            }
          },
          "metadata": {},
          "execution_count": 175
        }
      ]
    },
    {
      "cell_type": "markdown",
      "source": [
        "Посмотрим как с этим справится трансформер на биграммах."
      ],
      "metadata": {
        "id": "6WzxrOZZtZYS"
      }
    },
    {
      "cell_type": "code",
      "source": [
        "mcmc = MCMCTransformer(RUSSIAN_ALPHABET, max_iter=100_000, k_grams=2).fit(war_and_peace)\n",
        "mcmc.transform(normalize_text(anna_karenina, RUSSIAN_ALPHABET)[:1_000])"
      ],
      "metadata": {
        "colab": {
          "base_uri": "https://localhost:8080/",
          "height": 140
        },
        "id": "Cm0T0BdIs0vK",
        "outputId": "56a0c9a6-7e60-4392-f841-677a2f35be48"
      },
      "execution_count": 177,
      "outputs": [
        {
          "output_type": "stream",
          "name": "stderr",
          "text": [
            "100%|██████████| 100000/100000 [03:11<00:00, 521.06it/s]"
          ]
        },
        {
          "output_type": "stream",
          "name": "stdout",
          "text": [
            "\n",
            "Acceptance ratio: 0.0032\n"
          ]
        },
        {
          "output_type": "stream",
          "name": "stderr",
          "text": [
            "\n"
          ]
        },
        {
          "output_type": "execute_result",
          "data": {
            "text/plain": [
              "'анна каренина один из самых знаменитых романов льва толстого начинается ставшей ацоризмом цразой все счастливые семьи похожи друг на друга каждая несчастливая семья несчастлива посвоему это книга о вечных щенностях о любви о вере о семье о человеческом достоинстве  лев толстойроман широкого дыханиячасть перваялев толстойанна каренинароман широкого дыханияанна каренина поразила современников вседневностью содержания необычайная свобода раскованность повествования удивительно сочетались в этом романе с щельностью художественного взгляда автора на жизнь он выступал здесь как художник и мыслитель и назначение искусства видел не в том чтобы неоспоримо разрешить вопрос а в том чтобы заставить любить жизнь в бесчисленных никогда не истоъимых всех ее проявлениях  в е годы один маститый писатель повидимому гончаров сказал достоевскому это веъь неслыханная это веъь первая кто у нас из писателей может поравняться с этим а в европе  кто представит хоть чтонибудь подобное цм достоевский находил в н'"
            ],
            "application/vnd.google.colaboratory.intrinsic+json": {
              "type": "string"
            }
          },
          "metadata": {},
          "execution_count": 177
        }
      ]
    },
    {
      "cell_type": "markdown",
      "source": [
        "Гораздо лучше."
      ],
      "metadata": {
        "id": "uhStCoTCvj_3"
      }
    }
  ]
}